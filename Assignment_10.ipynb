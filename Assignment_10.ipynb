{
  "nbformat": 4,
  "nbformat_minor": 0,
  "metadata": {
    "colab": {
      "name": "Assignment 10.ipynb",
      "provenance": [],
      "authorship_tag": "ABX9TyPF2UZSLSYvsAFH2atSh+MJ"
    },
    "kernelspec": {
      "name": "python3",
      "display_name": "Python 3"
    }
  },
  "cells": [
    {
      "cell_type": "code",
      "metadata": {
        "id": "VdAvsA7CCRLe",
        "colab_type": "code",
        "colab": {
          "base_uri": "https://localhost:8080/",
          "height": 204
        },
        "outputId": "9b382213-c02e-4f30-aa23-067a6ab07355"
      },
      "source": [
        "import numpy as np \n",
        "import pandas as pd \n",
        "data=pd.read_csv('data.csv')\n",
        "data"
      ],
      "execution_count": 9,
      "outputs": [
        {
          "output_type": "execute_result",
          "data": {
            "text/html": [
              "<div>\n",
              "<style scoped>\n",
              "    .dataframe tbody tr th:only-of-type {\n",
              "        vertical-align: middle;\n",
              "    }\n",
              "\n",
              "    .dataframe tbody tr th {\n",
              "        vertical-align: top;\n",
              "    }\n",
              "\n",
              "    .dataframe thead th {\n",
              "        text-align: right;\n",
              "    }\n",
              "</style>\n",
              "<table border=\"1\" class=\"dataframe\">\n",
              "  <thead>\n",
              "    <tr style=\"text-align: right;\">\n",
              "      <th></th>\n",
              "      <th>Customer</th>\n",
              "      <th>Age</th>\n",
              "      <th>Income</th>\n",
              "      <th>no of credit cards</th>\n",
              "      <th>class</th>\n",
              "    </tr>\n",
              "  </thead>\n",
              "  <tbody>\n",
              "    <tr>\n",
              "      <th>0</th>\n",
              "      <td>george</td>\n",
              "      <td>35</td>\n",
              "      <td>35</td>\n",
              "      <td>3</td>\n",
              "      <td>no</td>\n",
              "    </tr>\n",
              "    <tr>\n",
              "      <th>1</th>\n",
              "      <td>michalle</td>\n",
              "      <td>22</td>\n",
              "      <td>50</td>\n",
              "      <td>2</td>\n",
              "      <td>yes</td>\n",
              "    </tr>\n",
              "    <tr>\n",
              "      <th>2</th>\n",
              "      <td>steve</td>\n",
              "      <td>63</td>\n",
              "      <td>200</td>\n",
              "      <td>1</td>\n",
              "      <td>no</td>\n",
              "    </tr>\n",
              "    <tr>\n",
              "      <th>3</th>\n",
              "      <td>ian</td>\n",
              "      <td>59</td>\n",
              "      <td>170</td>\n",
              "      <td>1</td>\n",
              "      <td>no</td>\n",
              "    </tr>\n",
              "    <tr>\n",
              "      <th>4</th>\n",
              "      <td>jacob</td>\n",
              "      <td>25</td>\n",
              "      <td>40</td>\n",
              "      <td>4</td>\n",
              "      <td>yes</td>\n",
              "    </tr>\n",
              "  </tbody>\n",
              "</table>\n",
              "</div>"
            ],
            "text/plain": [
              "  Customer   Age   Income   no of credit cards  class\n",
              "0   george     35       35                    3   no \n",
              "1  michalle    22       50                    2  yes \n",
              "2     steve    63      200                    1   no \n",
              "3      ian     59      170                    1   no \n",
              "4    jacob     25       40                    4  yes "
            ]
          },
          "metadata": {
            "tags": []
          },
          "execution_count": 9
        }
      ]
    },
    {
      "cell_type": "code",
      "metadata": {
        "id": "28LhSkTACXDF",
        "colab_type": "code",
        "outputId": "39745863-15f4-4b85-b38e-5638170a6430",
        "colab": {
          "base_uri": "https://localhost:8080/",
          "height": 34
        }
      },
      "source": [
        "x_train=data.iloc[:,1:4].to_numpy()\n",
        "y_train=data.iloc[:,4]\n",
        "\n",
        "#performing label endoing on the in the dataset \n",
        "from sklearn.preprocessing import LabelEncoder \n",
        "le=LabelEncoder()\n",
        "y_train=le.fit_transform(y_train)\n",
        "\n",
        "from sklearn.neighbors import KNeighborsClassifier\n",
        "neigh = KNeighborsClassifier()\n",
        "neigh.fit(x_train, y_train)\n",
        "\n",
        "test=[37,50,2]\n",
        "x_test=np.array(test).reshape(1,-1)\n",
        "\n",
        "y_pred=neigh.predict(x_test)\n",
        "print(y_pred)\n"
      ],
      "execution_count": 40,
      "outputs": [
        {
          "output_type": "stream",
          "text": [
            "[0]\n"
          ],
          "name": "stdout"
        }
      ]
    },
    {
      "cell_type": "code",
      "metadata": {
        "id": "JZbqXnFBGEBR",
        "colab_type": "code",
        "colab": {}
      },
      "source": [
        ""
      ],
      "execution_count": 0,
      "outputs": []
    }
  ]
}