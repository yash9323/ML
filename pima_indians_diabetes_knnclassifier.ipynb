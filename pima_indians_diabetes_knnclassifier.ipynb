{
  "nbformat": 4,
  "nbformat_minor": 0,
  "metadata": {
    "colab": {
      "name": "pima-indians-diabetes-knnclassifier.ipynb",
      "provenance": [],
      "collapsed_sections": [],
      "authorship_tag": "ABX9TyOJBiJZa8T7Vr3oGCnc2uWY"
    },
    "kernelspec": {
      "name": "python3",
      "display_name": "Python 3"
    }
  },
  "cells": [
    {
      "cell_type": "code",
      "metadata": {
        "id": "BZYF9gn4G3Az",
        "colab_type": "code",
        "colab": {
          "base_uri": "https://localhost:8080/",
          "height": 221
        },
        "outputId": "4c95652f-f346-474c-a37f-4e158acbe5e3"
      },
      "source": [
        "#Diabetes dataset uisng k nearest neighbour \n",
        "#importing libraries \n",
        "import pandas as pd \n",
        "import numpy as np \n",
        "\n",
        "#reading the dataset and performing preprosessing \n",
        "dataset=pd.read_csv(\"pima-indians-diabetes.csv\")\n",
        "x=dataset.iloc[:,0:9].to_numpy()\n",
        "y=dataset.iloc[:,9].to_numpy()\n",
        "\n",
        "#performing imputing on the missing values \n",
        "from sklearn.impute import SimpleImputer\n",
        "imp=SimpleImputer(missing_values=np.nan,strategy='mean')\n",
        "x=imp.fit_transform(x)\n",
        "\n",
        "#perfroming scaling to normalize the data \n",
        "from sklearn.preprocessing import StandardScaler\n",
        "ss=StandardScaler()\n",
        "x=ss.fit_transform(x)\n",
        "\n",
        "#splitting the data set \n",
        "from sklearn.model_selection import train_test_split\n",
        "x_train,x_test,y_train,y_test=train_test_split(x,y,test_size=0.25,random_state=42)\n",
        "\n",
        "from sklearn.neighbors import KNeighborsClassifier\n",
        "neigh = KNeighborsClassifier()\n",
        "neigh.fit(x_train, y_train)\n",
        "\n",
        "y_pred=neigh.predict(x_test)\n",
        "\n",
        "from sklearn.metrics import confusion_matrix\n",
        "cm=confusion_matrix(y_test,y_pred)\n",
        "print(\"CONFUSION MATRIX :\",cm)\n",
        "\n",
        "from sklearn import metrics\n",
        "print(\"ACCURACY:\",metrics.accuracy_score(y_test,y_pred)*100,\"%\")\n",
        "print(metrics.classification_report(y_test,y_pred))\n"
      ],
      "execution_count": 6,
      "outputs": [
        {
          "output_type": "stream",
          "text": [
            "CONFUSION MATRIX : [[97 26]\n",
            " [28 41]]\n",
            "ACCURACY: 71.875 %\n",
            "              precision    recall  f1-score   support\n",
            "\n",
            "           0       0.78      0.79      0.78       123\n",
            "           1       0.61      0.59      0.60        69\n",
            "\n",
            "    accuracy                           0.72       192\n",
            "   macro avg       0.69      0.69      0.69       192\n",
            "weighted avg       0.72      0.72      0.72       192\n",
            "\n"
          ],
          "name": "stdout"
        }
      ]
    },
    {
      "cell_type": "code",
      "metadata": {
        "id": "vs7boEA9HSpN",
        "colab_type": "code",
        "colab": {}
      },
      "source": [
        ""
      ],
      "execution_count": 0,
      "outputs": []
    }
  ]
}