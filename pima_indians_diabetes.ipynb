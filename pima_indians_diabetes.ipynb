{
  "nbformat": 4,
  "nbformat_minor": 0,
  "metadata": {
    "colab": {
      "name": "pima-indians-diabetes.ipynb",
      "provenance": [],
      "collapsed_sections": [],
      "authorship_tag": "ABX9TyNw/yvT0Aeyh7KSPML36+4P"
    },
    "kernelspec": {
      "name": "python3",
      "display_name": "Python 3"
    }
  },
  "cells": [
    {
      "cell_type": "code",
      "metadata": {
        "id": "h1_V8E_lu8FC",
        "colab_type": "code",
        "colab": {
          "base_uri": "https://localhost:8080/",
          "height": 296
        },
        "outputId": "f83260a7-eb4a-4f0b-b0b5-3764dde11bee"
      },
      "source": [
        "#Diabetes dataset \n",
        "#importing libraries \n",
        "import pandas as pd \n",
        "import numpy as np \n",
        "\n",
        "#reading the dataset and performing preprosessing \n",
        "dataset=pd.read_csv(\"pima-indians-diabetes.csv\")\n",
        "x=dataset.iloc[:,0:9].to_numpy()\n",
        "y=dataset.iloc[:,9].to_numpy()\n",
        "\n",
        "#performing imputing on the missing values \n",
        "from sklearn.impute import SimpleImputer\n",
        "imp=SimpleImputer(missing_values=np.nan,strategy='mean')\n",
        "x=imp.fit_transform(x)\n",
        "\n",
        "#perfroming scaling to normalize the data \n",
        "from sklearn.preprocessing import StandardScaler\n",
        "ss=StandardScaler()\n",
        "x=ss.fit_transform(x)\n",
        "\n",
        "#visualizing the dataset \n",
        "import seaborn as sns \n",
        "import matplotlib.pyplot as plt\n",
        "\n",
        "sns.barplot(y=\"preg\",x=\"outcome\",data=dataset)\n"
      ],
      "execution_count": 19,
      "outputs": [
        {
          "output_type": "execute_result",
          "data": {
            "text/plain": [
              "<matplotlib.axes._subplots.AxesSubplot at 0x7ff37cdbe7f0>"
            ]
          },
          "metadata": {
            "tags": []
          },
          "execution_count": 19
        },
        {
          "output_type": "display_data",
          "data": {
            "image/png": "[encoded data removed]",
            "text/plain": [
              "<Figure size 432x288 with 1 Axes>"
            ]
          },
          "metadata": {
            "tags": []
          }
        }
      ]
    },
    {
      "cell_type": "code",
      "metadata": {
        "id": "7uTsVFVvvUXl",
        "colab_type": "code",
        "colab": {
          "base_uri": "https://localhost:8080/",
          "height": 298
        },
        "outputId": "41618bff-6edf-442e-d10e-612c1aa6770a"
      },
      "source": [
        "sns.barplot(y=\"age\",x=\"outcome\",data=dataset)"
      ],
      "execution_count": 22,
      "outputs": [
        {
          "output_type": "execute_result",
          "data": {
            "text/plain": [
              "<matplotlib.axes._subplots.AxesSubplot at 0x7ff37c75eba8>"
            ]
          },
          "metadata": {
            "tags": []
          },
          "execution_count": 22
        },
        {
          "output_type": "display_data",
          "data": {
            "image/png": "[encoded data removed]",
            "text/plain": [
              "<Figure size 432x288 with 1 Axes>"
            ]
          },
          "metadata": {
            "tags": []
          }
        }
      ]
    },
    {
      "cell_type": "code",
      "metadata": {
        "id": "ECeBDlezvVTJ",
        "colab_type": "code",
        "colab": {
          "base_uri": "https://localhost:8080/",
          "height": 296
        },
        "outputId": "8c395135-1d86-4bf3-b553-4f1b96aaaef8"
      },
      "source": [
        "sns.barplot(y=\"bmi\",x=\"outcome\",data=dataset)"
      ],
      "execution_count": 25,
      "outputs": [
        {
          "output_type": "execute_result",
          "data": {
            "text/plain": [
              "<matplotlib.axes._subplots.AxesSubplot at 0x7ff37aa5ffd0>"
            ]
          },
          "metadata": {
            "tags": []
          },
          "execution_count": 25
        },
        {
          "output_type": "display_data",
          "data": {
            "image/png": "[encoded data removed]",
            "text/plain": [
              "<Figure size 432x288 with 1 Axes>"
            ]
          },
          "metadata": {
            "tags": []
          }
        }
      ]
    },
    {
      "cell_type": "code",
      "metadata": {
        "id": "D3MxcPdMx8b3",
        "colab_type": "code",
        "colab": {
          "base_uri": "https://localhost:8080/",
          "height": 296
        },
        "outputId": "65f4cfd1-9571-4129-a23b-157b8a9728b9"
      },
      "source": [
        "sns.barplot(y=\"insulin\",x=\"outcome\",data=dataset)"
      ],
      "execution_count": 26,
      "outputs": [
        {
          "output_type": "execute_result",
          "data": {
            "text/plain": [
              "<matplotlib.axes._subplots.AxesSubplot at 0x7ff37a297710>"
            ]
          },
          "metadata": {
            "tags": []
          },
          "execution_count": 26
        },
        {
          "output_type": "display_data",
          "data": {
            "image/png": "[encoded data removed]",
            "text/plain": [
              "<Figure size 432x288 with 1 Axes>"
            ]
          },
          "metadata": {
            "tags": []
          }
        }
      ]
    },
    {
      "cell_type": "code",
      "metadata": {
        "id": "kJFsUap7yJgg",
        "colab_type": "code",
        "colab": {}
      },
      "source": [
        "#splitting the data set \n",
        "from sklearn.model_selection import train_test_split\n",
        "x_train,x_test,y_train,y_test=train_test_split(x,y,test_size=0.25,random_state=42)"
      ],
      "execution_count": 0,
      "outputs": []
    },
    {
      "cell_type": "code",
      "metadata": {
        "id": "Eg0QJ6_RytPp",
        "colab_type": "code",
        "colab": {
          "base_uri": "https://localhost:8080/",
          "height": 34
        },
        "outputId": "616d084f-e73e-4389-b7ac-c242253053fe"
      },
      "source": [
        "#importing the model\n",
        "from sklearn.naive_bayes import GaussianNB\n",
        "gnb=GaussianNB()\n",
        "gnb.fit(x_train,y_train)"
      ],
      "execution_count": 29,
      "outputs": [
        {
          "output_type": "execute_result",
          "data": {
            "text/plain": [
              "GaussianNB(priors=None, var_smoothing=1e-09)"
            ]
          },
          "metadata": {
            "tags": []
          },
          "execution_count": 29
        }
      ]
    },
    {
      "cell_type": "code",
      "metadata": {
        "id": "6HEIVOoiy1-s",
        "colab_type": "code",
        "colab": {
          "base_uri": "https://localhost:8080/",
          "height": 221
        },
        "outputId": "e6c0d79a-cc99-41b9-c8db-daf9ec262584"
      },
      "source": [
        "#predicting and testing the model \n",
        "y_pred=gnb.predict(x_test)\n",
        "from sklearn.metrics import confusion_matrix\n",
        "cm=confusion_matrix(y_test,y_pred)\n",
        "print(\"CONFUSION MATRIX :\",cm)\n",
        "from sklearn import metrics\n",
        "print(\"ACCURACY:\",metrics.accuracy_score(y_test,y_pred)*100,\"%\")\n",
        "print(metrics.classification_report(y_test,y_pred))"
      ],
      "execution_count": 32,
      "outputs": [
        {
          "output_type": "stream",
          "text": [
            "CONFUSION MATRIX : [[93 30]\n",
            " [22 47]]\n",
            "ACCURACY: 72.91666666666666 %\n",
            "              precision    recall  f1-score   support\n",
            "\n",
            "           0       0.81      0.76      0.78       123\n",
            "           1       0.61      0.68      0.64        69\n",
            "\n",
            "    accuracy                           0.73       192\n",
            "   macro avg       0.71      0.72      0.71       192\n",
            "weighted avg       0.74      0.73      0.73       192\n",
            "\n"
          ],
          "name": "stdout"
        }
      ]
    }
  ]
}