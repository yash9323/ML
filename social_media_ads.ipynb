{
  "nbformat": 4,
  "nbformat_minor": 0,
  "metadata": {
    "colab": {
      "name": "social_media_ads.ipynb",
      "provenance": []
    },
    "kernelspec": {
      "name": "python3",
      "display_name": "Python 3"
    }
  },
  "cells": [
    {
      "cell_type": "code",
      "metadata": {
        "id": "rksYYBO6T843",
        "colab_type": "code",
        "colab": {
          "base_uri": "https://localhost:8080/",
          "height": 296
        },
        "outputId": "2eaa92d3-f372-4926-ceb3-e7ded5fffbce"
      },
      "source": [
        "#Social Media Ads\n",
        "#importing libraries\n",
        "import pandas as pd \n",
        "import numpy as np\n",
        "\n",
        "#reading the dataset ,splitting the dataset to X_train and Y_train\n",
        "dataset = pd.read_csv(\"Social_Network_Ads.csv\")\n",
        "x_train=dataset.iloc[:,1:4].to_numpy()\n",
        "y_train=dataset.iloc[:,4].to_numpy()\n",
        "\n",
        "#performing label endoing on the male coloumb in the dataset \n",
        "from sklearn.preprocessing import LabelEncoder \n",
        "le=LabelEncoder()\n",
        "x_train[:,0]=le.fit_transform(x_train[:,0])\n",
        "\n",
        "#performing imputing on the missing values \n",
        "from sklearn.impute import SimpleImputer\n",
        "imp=SimpleImputer(missing_values=np.nan,strategy='mean')\n",
        "imp.fit_transform(x_train)\n",
        "\n",
        "#perfroming scaling to normalize the data \n",
        "from sklearn.preprocessing import StandardScaler\n",
        "ss=StandardScaler()\n",
        "ss.fit_transform(x_train)\n",
        "\n",
        "#visualizing the dataset \n",
        "import seaborn as sns \n",
        "import matplotlib.pyplot as plt\n",
        "\n",
        "sns.barplot(x=\"Gender\",y=\"Purchased\",data=dataset)"
      ],
      "execution_count": 68,
      "outputs": [
        {
          "output_type": "execute_result",
          "data": {
            "text/plain": [
              "<matplotlib.axes._subplots.AxesSubplot at 0x7f6187b9fd30>"
            ]
          },
          "metadata": {
            "tags": []
          },
          "execution_count": 68
        },
        {
          "output_type": "display_data",
          "data": {
            "image/png": "[encoded data removed]",
            "text/plain": [
              "<Figure size 432x288 with 1 Axes>"
            ]
          },
          "metadata": {
            "tags": []
          }
        }
      ]
    },
    {
      "cell_type": "code",
      "metadata": {
        "id": "G1Z5uN74YzWq",
        "colab_type": "code",
        "colab": {
          "base_uri": "https://localhost:8080/",
          "height": 299
        },
        "outputId": "bf81a958-b34d-4718-f17f-bc83b341e538"
      },
      "source": [
        "\n",
        "sns.barplot(x=\"Purchased\",y=\"Age\",data=dataset)\n"
      ],
      "execution_count": 47,
      "outputs": [
        {
          "output_type": "execute_result",
          "data": {
            "text/plain": [
              "<matplotlib.axes._subplots.AxesSubplot at 0x7f6185e4b278>"
            ]
          },
          "metadata": {
            "tags": []
          },
          "execution_count": 47
        },
        {
          "output_type": "display_data",
          "data": {
            "image/png": "[encoded data removed]",
            "text/plain": [
              "<Figure size 432x288 with 1 Axes>"
            ]
          },
          "metadata": {
            "tags": []
          }
        }
      ]
    },
    {
      "cell_type": "code",
      "metadata": {
        "id": "xak5dKvTY3yU",
        "colab_type": "code",
        "colab": {
          "base_uri": "https://localhost:8080/",
          "height": 296
        },
        "outputId": "707a030f-19ca-46a4-df2e-046d48bd2152"
      },
      "source": [
        "sns.barplot(x=\"Purchased\",y=\"EstimatedSalary\",data=dataset)"
      ],
      "execution_count": 48,
      "outputs": [
        {
          "output_type": "execute_result",
          "data": {
            "text/plain": [
              "<matplotlib.axes._subplots.AxesSubplot at 0x7f6186300b38>"
            ]
          },
          "metadata": {
            "tags": []
          },
          "execution_count": 48
        },
        {
          "output_type": "display_data",
          "data": {
            "image/png": "[encoded data removed]",
            "text/plain": [
              "<Figure size 432x288 with 1 Axes>"
            ]
          },
          "metadata": {
            "tags": []
          }
        }
      ]
    },
    {
      "cell_type": "code",
      "metadata": {
        "id": "ZhSAcFDUfPgA",
        "colab_type": "code",
        "colab": {
          "base_uri": "https://localhost:8080/",
          "height": 34
        },
        "outputId": "99b8291e-6869-43ac-b1dd-3e6d77cadf51"
      },
      "source": [
        "#importing the model\n",
        "from sklearn.naive_bayes import GaussianNB\n",
        "gnb=GaussianNB()\n",
        "gnb.fit(x_train,y_train)\n",
        "\n"
      ],
      "execution_count": 69,
      "outputs": [
        {
          "output_type": "execute_result",
          "data": {
            "text/plain": [
              "GaussianNB(priors=None, var_smoothing=1e-09)"
            ]
          },
          "metadata": {
            "tags": []
          },
          "execution_count": 69
        }
      ]
    },
    {
      "cell_type": "code",
      "metadata": {
        "id": "-nB8NkkbgJ56",
        "colab_type": "code",
        "colab": {
          "base_uri": "https://localhost:8080/",
          "height": 221
        },
        "outputId": "91238691-3de6-4b07-c528-7ec2a686e7ed"
      },
      "source": [
        "#Testing the classifier \n",
        "x_test=x_train[302:333,:]\n",
        "y_test=y_train[302:333]\n",
        "y_pred=gnb.predict(x_test)\n",
        "\n",
        "#Calculating the accuracy \n",
        "from sklearn.metrics import confusion_matrix\n",
        "cm=confusion_matrix(y_test,y_pred)\n",
        "print(\"CONFUSION MATRIX :\",cm)\n",
        "\n",
        "from sklearn import metrics\n",
        "print(\"ACCURACY:\",metrics.accuracy_score(y_test,y_pred)*100,\"%\")\n",
        "print(metrics.classification_report(y_test,y_pred))"
      ],
      "execution_count": 89,
      "outputs": [
        {
          "output_type": "stream",
          "text": [
            "CONFUSION MATRIX : [[14  1]\n",
            " [ 4 12]]\n",
            "ACCURACY: 83.87096774193549 %\n",
            "              precision    recall  f1-score   support\n",
            "\n",
            "           0       0.78      0.93      0.85        15\n",
            "           1       0.92      0.75      0.83        16\n",
            "\n",
            "    accuracy                           0.84        31\n",
            "   macro avg       0.85      0.84      0.84        31\n",
            "weighted avg       0.85      0.84      0.84        31\n",
            "\n"
          ],
          "name": "stdout"
        }
      ]
    }
  ]
}