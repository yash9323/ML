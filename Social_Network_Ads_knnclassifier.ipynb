{
  "nbformat": 4,
  "nbformat_minor": 0,
  "metadata": {
    "colab": {
      "name": "Social_Network_Ads-knnclassifier.ipynb",
      "provenance": [],
      "collapsed_sections": [],
      "authorship_tag": "ABX9TyMbM5B+lFaAH7GuHXbYKxnz"
    },
    "kernelspec": {
      "name": "python3",
      "display_name": "Python 3"
    }
  },
  "cells": [
    {
      "cell_type": "code",
      "metadata": {
        "id": "RE7Gaa3jJy1Z",
        "colab_type": "code",
        "colab": {
          "base_uri": "https://localhost:8080/",
          "height": 221
        },
        "outputId": "a8c3ef8e-1273-4441-82ce-c8ad4a79326c"
      },
      "source": [
        "import pandas as pd \n",
        "import numpy as np\n",
        "\n",
        "#reading the dataset\n",
        "dataset = pd.read_csv(\"Social_Network_Ads.csv\")\n",
        "x=dataset.iloc[:,1:4].to_numpy()\n",
        "y=dataset.iloc[:,4].to_numpy()\n",
        "\n",
        "#performing label endoing on the male coloumb in the dataset \n",
        "from sklearn.preprocessing import LabelEncoder \n",
        "le=LabelEncoder()\n",
        "x[:,0]=le.fit_transform(x[:,0])\n",
        "\n",
        "#performing imputing on the missing values \n",
        "from sklearn.impute import SimpleImputer\n",
        "imp=SimpleImputer(missing_values=np.nan,strategy='mean')\n",
        "imp.fit_transform(x)\n",
        "\n",
        "#perfroming scaling to normalize the data \n",
        "from sklearn.preprocessing import StandardScaler\n",
        "ss=StandardScaler()\n",
        "ss.fit_transform(x)\n",
        "\n",
        "#splitting the data set \n",
        "from sklearn.model_selection import train_test_split\n",
        "x_train,x_test,y_train,y_test=train_test_split(x,y,test_size=0.25,random_state=42)\n",
        "\n",
        "from sklearn.neighbors import KNeighborsClassifier\n",
        "neigh = KNeighborsClassifier()\n",
        "neigh.fit(x_train, y_train)\n",
        "\n",
        "y_pred=neigh.predict(x_test)\n",
        "\n",
        "from sklearn.metrics import confusion_matrix\n",
        "cm=confusion_matrix(y_test,y_pred)\n",
        "print(\"CONFUSION MATRIX :\",cm)\n",
        "\n",
        "from sklearn import metrics\n",
        "print(\"ACCURACY:\",metrics.accuracy_score(y_test,y_pred)*100,\"%\")\n",
        "print(metrics.classification_report(y_test,y_pred))"
      ],
      "execution_count": 2,
      "outputs": [
        {
          "output_type": "stream",
          "text": [
            "CONFUSION MATRIX : [[57  6]\n",
            " [12 25]]\n",
            "ACCURACY: 82.0 %\n",
            "              precision    recall  f1-score   support\n",
            "\n",
            "           0       0.83      0.90      0.86        63\n",
            "           1       0.81      0.68      0.74        37\n",
            "\n",
            "    accuracy                           0.82       100\n",
            "   macro avg       0.82      0.79      0.80       100\n",
            "weighted avg       0.82      0.82      0.82       100\n",
            "\n"
          ],
          "name": "stdout"
        }
      ]
    },
    {
      "cell_type": "code",
      "metadata": {
        "id": "vHwp8zWcKcJE",
        "colab_type": "code",
        "colab": {}
      },
      "source": [
        ""
      ],
      "execution_count": 0,
      "outputs": []
    }
  ]
}